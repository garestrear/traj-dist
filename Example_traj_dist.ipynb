{
  "nbformat": 4,
  "nbformat_minor": 0,
  "metadata": {
    "colab": {
      "name": "Example_traj_dist.ipynb",
      "provenance": [],
      "include_colab_link": true
    },
    "kernelspec": {
      "name": "python3",
      "display_name": "Python 3"
    }
  },
  "cells": [
    {
      "cell_type": "markdown",
      "metadata": {
        "id": "view-in-github",
        "colab_type": "text"
      },
      "source": [
        "<a href=\"https://colab.research.google.com/github/garestrear/traj-dist/blob/master/Example_traj_dist.ipynb\" target=\"_parent\"><img src=\"https://colab.research.google.com/assets/colab-badge.svg\" alt=\"Open In Colab\"/></a>"
      ]
    },
    {
      "cell_type": "code",
      "metadata": {
        "id": "IrVCIIryYNAE",
        "colab_type": "code",
        "colab": {
          "base_uri": "https://localhost:8080/",
          "height": 411
        },
        "outputId": "7f0cebe6-8fb8-4ad3-c6b8-ffbe7e9f0013"
      },
      "source": [
        "!pip install traj_dist"
      ],
      "execution_count": 5,
      "outputs": [
        {
          "output_type": "stream",
          "text": [
            "Collecting traj_dist\n",
            "  Downloading https://files.pythonhosted.org/packages/44/f6/ce64756fa8335fb5b17435495aeb41491f8461ca2a9776ba87c12a30594a/traj_dist-1.15.tar.gz\n",
            "  Installing build dependencies ... \u001b[?25l\u001b[?25hdone\n",
            "  Getting requirements to build wheel ... \u001b[?25l\u001b[?25hdone\n",
            "    Preparing wheel metadata ... \u001b[?25l\u001b[?25hdone\n",
            "Processing /root/.cache/pip/wheels/69/63/0d/560a1741fa3f0ab897105cddb33f21f38c3330e4a57ea75db6/geohash2-1.1-cp36-none-any.whl\n",
            "Requirement already satisfied: scipy>=0.19.1 in /usr/local/lib/python3.6/dist-packages (from traj_dist) (1.4.1)\n",
            "Requirement already satisfied: Cython>=0.27.3 in /usr/local/lib/python3.6/dist-packages (from traj_dist) (0.29.20)\n",
            "Requirement already satisfied: pandas>=0.20.3 in /usr/local/lib/python3.6/dist-packages (from traj_dist) (1.0.5)\n",
            "Requirement already satisfied: numpy>=1.14.0 in /usr/local/lib/python3.6/dist-packages (from traj_dist) (1.18.5)\n",
            "Requirement already satisfied: Shapely>=1.6.4 in /usr/local/lib/python3.6/dist-packages (from traj_dist) (1.7.0)\n",
            "Requirement already satisfied: docutils>=0.3 in /usr/local/lib/python3.6/dist-packages (from geohash2==1.1->traj_dist) (0.15.2)\n",
            "Requirement already satisfied: python-dateutil>=2.6.1 in /usr/local/lib/python3.6/dist-packages (from pandas>=0.20.3->traj_dist) (2.8.1)\n",
            "Requirement already satisfied: pytz>=2017.2 in /usr/local/lib/python3.6/dist-packages (from pandas>=0.20.3->traj_dist) (2018.9)\n",
            "Requirement already satisfied: six>=1.5 in /usr/local/lib/python3.6/dist-packages (from python-dateutil>=2.6.1->pandas>=0.20.3->traj_dist) (1.12.0)\n",
            "Building wheels for collected packages: traj-dist\n",
            "  Building wheel for traj-dist (PEP 517) ... \u001b[?25l\u001b[?25hdone\n",
            "  Created wheel for traj-dist: filename=traj_dist-1.15-cp36-cp36m-linux_x86_64.whl size=1496756 sha256=787806beeed3bd8696438be5720d00d42799381e65699c23a9466f6882883bdf\n",
            "  Stored in directory: /root/.cache/pip/wheels/30/da/29/cfefc74eb8b6a6a8b3a1ff2609c988a781d7a7d6c791da5d55\n",
            "Successfully built traj-dist\n",
            "Installing collected packages: geohash2, traj-dist\n",
            "Successfully installed geohash2-1.1 traj-dist-1.15\n"
          ],
          "name": "stdout"
        }
      ]
    },
    {
      "cell_type": "code",
      "metadata": {
        "id": "3lEm1ypsduXd",
        "colab_type": "code",
        "colab": {
          "base_uri": "https://localhost:8080/",
          "height": 54
        },
        "outputId": "af492bf8-0ccc-4900-bd52-19be8eac0af0"
      },
      "source": [
        "import numpy as np\n",
        "import traj_dist.distance as tdist\n",
        "import pickle\n",
        "\n",
        "from google.colab import drive\n",
        " \n",
        "drive.mount('/content/drive')  "
      ],
      "execution_count": 11,
      "outputs": [
        {
          "output_type": "stream",
          "text": [
            "Drive already mounted at /content/drive; to attempt to forcibly remount, call drive.mount(\"/content/drive\", force_remount=True).\n"
          ],
          "name": "stdout"
        }
      ]
    },
    {
      "cell_type": "code",
      "metadata": {
        "id": "pRqldZMhhd1H",
        "colab_type": "code",
        "colab": {
          "base_uri": "https://localhost:8080/",
          "height": 374
        },
        "outputId": "9b5fe38e-ab04-477d-a1ec-7da76da98155"
      },
      "source": [
        "with open('/content/benchmark_trajectories.pkl','rb') as f:\n",
        "   u = pickle._Unpickler(f)\n",
        "   u.encoding = 'latin1'\n",
        "   p = u.load()\n",
        "   #print(p)\n",
        "   traj_list=p[:10]\n",
        "   #print(traj_list)\n",
        "   traj_A = traj_list[0]\n",
        "   traj_B = traj_list[1]\n",
        "\n",
        "# Simple distance\n",
        "\n",
        "dist = tdist.sspd(traj_A, traj_B)\n",
        "print(dist)\n",
        "\n",
        "# Pairwise distance\n",
        "\n",
        "pdist = tdist.pdist(traj_list, metric=\"sspd\")\n",
        "#print(pdist)\n",
        "\n",
        "# Distance between two list of trajectories\n",
        "\n",
        "cdist = tdist.cdist(traj_list, traj_list, metric=\"sspd\")\n",
        "print(cdist)"
      ],
      "execution_count": 43,
      "outputs": [
        {
          "output_type": "stream",
          "text": [
            "0.004849697869252101\n",
            "[[0.         0.0048497  0.00884278 0.00944466 0.0068412  0.01344755\n",
            "  0.00716161 0.0076935  0.01246072 0.01323533]\n",
            " [0.0048497  0.         0.00535246 0.01149514 0.00592233 0.01197079\n",
            "  0.00594326 0.00683481 0.01103996 0.01038089]\n",
            " [0.00884278 0.00535246 0.         0.01716077 0.00764197 0.00942156\n",
            "  0.00744162 0.00781036 0.00620369 0.00629194]\n",
            " [0.00944466 0.01149514 0.01716077 0.         0.01098633 0.0133001\n",
            "  0.01171999 0.01022343 0.01470535 0.01586165]\n",
            " [0.0068412  0.00592233 0.00764197 0.01098633 0.         0.00779763\n",
            "  0.00034023 0.00078497 0.00575135 0.0064435 ]\n",
            " [0.01344755 0.01197079 0.00942156 0.0133001  0.00779763 0.\n",
            "  0.00826335 0.00697665 0.00296626 0.00513031]\n",
            " [0.00716161 0.00594326 0.00744162 0.01171999 0.00034023 0.00826335\n",
            "  0.         0.0009905  0.00584143 0.00651021]\n",
            " [0.0076935  0.00683481 0.00781036 0.01022343 0.00078497 0.00697665\n",
            "  0.0009905  0.         0.00497392 0.00587689]\n",
            " [0.01246072 0.01103996 0.00620369 0.01470535 0.00575135 0.00296626\n",
            "  0.00584143 0.00497392 0.         0.00275793]\n",
            " [0.01323533 0.01038089 0.00629194 0.01586165 0.0064435  0.00513031\n",
            "  0.00651021 0.00587689 0.00275793 0.        ]]\n"
          ],
          "name": "stdout"
        }
      ]
    },
    {
      "cell_type": "code",
      "metadata": {
        "id": "K-HQe8ojhCoN",
        "colab_type": "code",
        "colab": {}
      },
      "source": [
        ""
      ],
      "execution_count": null,
      "outputs": []
    }
  ]
}